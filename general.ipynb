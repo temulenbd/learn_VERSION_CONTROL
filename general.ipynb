{
 "cells": [
  {
   "cell_type": "markdown",
   "metadata": {
    "tags": []
   },
   "source": [
    "# VERSION CONTROL\n",
    "\n",
    "### Advantages of using version control:\n",
    "- Records the changes made to the code over time in a special database called a repository.\n",
    "- People can look at their project history and see who has made what changes, when, and why.\n",
    "- If someone makes a mistake, the system can be easily restored to its previous state.\n",
    "\n",
    "### Types of version control:\n",
    "- **Local**: it only manages changes to files within a local repository on a user's computer. It is commonly used by individuals or small teams of developers working on a project who need to keep track of changes made to the files.\n",
    "- **Centralized**: all team members connect to a central server to get the latest copy of the code and share their changes with others. (The centralized architecture is the single point of failure. If the server goes offline, team members cannot collaborate or save snapshots of the project. So, everyone must wait until server comes back online.)\n",
    "- **Distributed**: all team members have a copy of the project with its history on their machine. (Each member saves snapshots of the project locally on their machines. If the server is offline, everyone can synchronize their work directly with others.)\n",
    "\n",
    "**EXAMPLES**: Git, SVN(Apache Subversion), Bitbucket, Mercurial, Perforce, Bazaar, AWS Code Commit, TFVC(Team Foundation Version Control), Beanstalk, RCS(Revision Control system)"
   ]
  }
 ],
 "metadata": {
  "kernelspec": {
   "display_name": "base",
   "language": "python",
   "name": "python3"
  },
  "language_info": {
   "codemirror_mode": {
    "name": "ipython",
    "version": 3
   },
   "file_extension": ".py",
   "mimetype": "text/x-python",
   "name": "python",
   "nbconvert_exporter": "python",
   "pygments_lexer": "ipython3",
   "version": "3.11.4"
  }
 },
 "nbformat": 4,
 "nbformat_minor": 2
}
