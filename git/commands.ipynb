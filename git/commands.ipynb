{
 "cells": [
  {
   "cell_type": "markdown",
   "metadata": {},
   "source": [
    "# Git"
   ]
  },
  {
   "cell_type": "markdown",
   "metadata": {},
   "source": [
    "Git is a ***distributed version control system*** that allows multiple people to work on the same project simultaneously, track changes to files, and collaborate efficiently. A history of all changes made to a project is kept, enabling reversion to previous versions, comparison of different versions, and merging of changes from different contributors."
   ]
  },
  {
   "cell_type": "markdown",
   "metadata": {},
   "source": [
    "*Key points about Git:*\n",
    "1. ***version control***: Git tracks changes to code over time, allowing for visibility into what changes were made, when, and by whom.\n",
    "2. ***distributed***: Unlike centralized systems, where there's one main server storing the project, Git allows every contributor to have a full copy of the project (including its history) on their own machine.\n",
    "3. ***branching***: Git allows the creation of branches, which are separate versions of the project to work on features or fixes without affecting the main project.\n",
    "4. ***merging***: Once work on a branch is complete, Git makes it easy to merge changes back into the main version of the project.\n",
    "5. ***collaboration***: Git allows multiple contributors to work on the same project without overwriting each other's work, thanks to branching and merging capabilities."
   ]
  },
  {
   "cell_type": "markdown",
   "metadata": {},
   "source": [
    "### Git terminal commands"
   ]
  },
  {
   "cell_type": "markdown",
   "metadata": {},
   "source": [
    "`git init` this command initializes a new Git repository in the current directory. It sets up the necessary files and structure for Git to start tracking changes.\n",
    "\n",
    "*What happens after running git init?*\n",
    "1. creates a ***.git*** directory - this hidden folder contains all the metadata needed for Git to track changes (commits, branches, etc.)\n",
    "2. turns the folder into a git repository - allowing tracking of files, making commits, and utilizing other Git features\n",
    "3. does not track files automatically - requiring the use of ***git add*** to stage the files and ***git commit*** to save the changes\n",
    "\n",
    "*If you initialized Git by mistake, remove the ***.git*** folder:*\n",
    "* Linux/macOS\n",
    "```sh\n",
    "    rm -rf .git\n",
    "```\n",
    "* Windows (Command Prompt)\n",
    "```sh\n",
    "    rmdir /s /q .git \n",
    "```"
   ]
  },
  {
   "cell_type": "markdown",
   "metadata": {},
   "source": [
    "`git config` this command is used to set Git configuration options for envorinment, such as the username, email, and various settings that control the behavior of Git.\n",
    "\n",
    "*Most commonly used configuration commands:*\n",
    "* to configure Git username globally:\n",
    "```sh\n",
    "    git config --global user.name [username]\n",
    "```\n",
    "\n",
    "* to configure Git email globally:\n",
    "```sh\n",
    "    git config --global user.email [email]\n",
    "```\n",
    "* to specify the default text editor for Git (e.g., VS Code, Vim, Nano)\n",
    "```sh\n",
    "    git config --global core.editor [texteditor]\n",
    "```\n",
    "* to list all Git configuration settings\n",
    "```sh\n",
    "    git config --list\n",
    "```\n",
    "* to remove a specific Git configuration (e.g., username):\n",
    "```sh\n",
    "    git config --unset user.name\n",
    "```"
   ]
  },
  {
   "cell_type": "markdown",
   "metadata": {},
   "source": [
    "`git status` this command is used to check the state of the repository. \n",
    "\n",
    "* **On branch [branch name]**:  \n",
    "  Indicates the branch currently being worked on. This shows which branch changes will be committed to.\n",
    "\n",
    "* **Changes to be committed**:  \n",
    "  Lists the files that are staged for the next commit. These are files that have been modified and added to the staging area using the *git add* command. These changes are ready to be committed.\n",
    "\n",
    "* **Changes not staged for commit**:  \n",
    "  Lists files that have been modified but not staged. These are changes made to the files, but not yet added to the staging area using *git add*. Git will not commit these changes unless staged first.\n",
    "\n",
    "* **Untracked files**:  \n",
    "  Lists files that are not tracked by Git. These are new files in the working directory that have not been added to Git's tracking system. The *git add* command is needed to start tracking them.\n",
    "\n",
    "* **Won't modify commits or changes in the local repository**:  \n",
    "  The *git status* command does not modify anything in the repository. It simply shows the current state of the working directory and staging area, without altering any files or commits.\n",
    "\n",
    "\n",
    "*Most commonly used configuration commands:*\n",
    "* to check the status of a specific file:\n",
    "```sh\n",
    "    git status [filename]\n",
    "```\n",
    "* to see only staged files:\n",
    "```sh\n",
    "    git diff --cached\n",
    "```"
   ]
  },
  {
   "cell_type": "markdown",
   "metadata": {},
   "source": [
    "`git add` this command ***stages changes*** in the working directory for inclusion in the next commit. This process involves adding new or modified files to the staging area (also known as the index), preparing them for a commit. \n",
    "\n",
    "*Common Usage Patterns:*\n",
    "* to stage individual files:\n",
    "```sh\n",
    "    git add [filename]\n",
    "```\n",
    "* to stage all modifications, including new, modified, and deleted files:\n",
    "```sh\n",
    "    git add -A\n",
    "```\n",
    "* to stage all the changes in the current directory and its subdirectories:\n",
    "```sh\n",
    "    git add .\n",
    "```\n",
    "* to add all the files except those starting with a dot:\n",
    "```sh\n",
    "    git add *\n",
    "```"
   ]
  },
  {
   "cell_type": "markdown",
   "metadata": {},
   "source": [
    "`git commit` thi command records a snapshot of the staged changes in a Git repository, creating a new commit that becomes part of the project's history.\n",
    "\n",
    "*Common Usage Patterns:*\n",
    "* to commit changes with a message:\n",
    "```sh\n",
    "    git commit -m \"message\"\n",
    "```\n",
    "* to commit all modified and deleted tracked files without staging:\n",
    "```sh\n",
    "    git commit -a -m \"message\"\n",
    "```\n",
    "* to amend the previous commit (this command allows modification of the last commit, useful for correcting messages or adding missed changes):\n",
    "```sh\n",
    "    git commit --amend -m \"updated message\"\n",
    "```"
   ]
  },
  {
   "cell_type": "markdown",
   "metadata": {},
   "source": [
    "`git log` this command displays the commit history of a Git repository, showing details about past commits, including:\n",
    "* commit hash (unique ID)\n",
    "* author name and email\n",
    "* date and time of the commit\n",
    "* commit message"
   ]
  },
  {
   "cell_type": "code",
   "execution_count": null,
   "metadata": {},
   "outputs": [],
   "source": [
    "\n",
    "    git commit -m '[commit message]'    commit changes\n",
    "    git rm -r [file-name.txt]           remove a file (or folder)\n"
   ]
  },
  {
   "cell_type": "markdown",
   "metadata": {},
   "source": [
    "### git rm –cached -r ‘path’\n",
    "Remove the file from the Repository without deleting it from my local file system."
   ]
  },
  {
   "cell_type": "code",
   "execution_count": null,
   "metadata": {},
   "outputs": [],
   "source": [
    "git push"
   ]
  },
  {
   "cell_type": "code",
   "execution_count": null,
   "metadata": {},
   "outputs": [],
   "source": [
    "git push origin main"
   ]
  },
  {
   "cell_type": "markdown",
   "metadata": {},
   "source": []
  }
 ],
 "metadata": {
  "kernelspec": {
   "display_name": "base",
   "language": "python",
   "name": "python3"
  },
  "language_info": {
   "codemirror_mode": {
    "name": "ipython",
    "version": 3
   },
   "file_extension": ".py",
   "mimetype": "text/x-python",
   "name": "python",
   "nbconvert_exporter": "python",
   "pygments_lexer": "ipython3",
   "version": "3.11.4"
  }
 },
 "nbformat": 4,
 "nbformat_minor": 2
}
