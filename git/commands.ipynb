{
 "cells": [
  {
   "cell_type": "markdown",
   "metadata": {},
   "source": [
    "# Git"
   ]
  },
  {
   "cell_type": "markdown",
   "metadata": {},
   "source": [
    "Git is a *distributed version control system* that allows multiple people to work on the same project simultaneously, track changes to files, and collaborate efficiently. A history of all changes made to a project is kept, enabling reversion to previous versions, comparison of different versions, and merging of changes from different contributors."
   ]
  },
  {
   "cell_type": "markdown",
   "metadata": {},
   "source": [
    "*Key points about Git:*\n",
    "1. ***version control***: Git tracks changes to code over time, allowing for visibility into what changes were made, when, and by whom.\n",
    "2. ***distributed***: Unlike centralized systems, where there's one main server storing the project, Git allows every contributor to have a full copy of the project (including its history) on their own machine.\n",
    "3. ***branching***: Git allows the creation of branches, which are separate versions of the project to work on features or fixes without affecting the main project.\n",
    "4. ***merging***: Once work on a branch is complete, Git makes it easy to merge changes back into the main version of the project.\n",
    "5. ***collaboration***: Git allows multiple contributors to work on the same project without overwriting each other's work, thanks to branching and merging capabilities."
   ]
  },
  {
   "cell_type": "markdown",
   "metadata": {},
   "source": [
    "### Git terminal commands"
   ]
  },
  {
   "cell_type": "markdown",
   "metadata": {},
   "source": [
    "**`git init`** this command initializes a new Git repository in the current directory. It sets up the necessary files and structure for Git to start tracking changes.\n",
    "\n",
    "\n",
    "\n",
    "*SYNTAX:*\n",
    "```sh\n",
    "    git init [directory]\n",
    "```\n",
    "* *git init* - initializes a new Git repository in the current directory\n",
    "* *directory* (optional) - if provided initializes the repository in the specified\n",
    "\n",
    "*EXTRA:*\n",
    "\n",
    "*What happens after running git init?*\n",
    "1. creates a *.git* directory - this hidden folder contains all the metadata needed for Git to track changes (commits, branches, etc.)\n",
    "2. turns the folder into a git repository - allowing tracking of files, making commits, and utilizing other Git features\n",
    "3. does not track files automatically - requiring the use of *git add* to stage the files and *git commit* to save the changes\n",
    "\n",
    "*If you initialized Git by mistake, remove the *.git* folder:*\n",
    "* Linux/macOS\n",
    "```sh\n",
    "    rm -rf .git\n",
    "```\n",
    "* Windows (Command Prompt)\n",
    "```sh\n",
    "    rmdir /s /q .git \n",
    "```"
   ]
  },
  {
   "cell_type": "markdown",
   "metadata": {},
   "source": [
    "**`git config`** this command is used to set Git configuration options for envorinment, such as the username, email, and various settings that control the behavior of Git.\n",
    "\n",
    "*SYNTAX:*\n",
    "```sh\n",
    "    git config [--global | --local | --system] [setting] [value]\n",
    "```\n",
    "* *--global* - affects all repositories for the current user\n",
    "* *--local* (default) - affects only the current repository\n",
    "* *--system* - affects all users on the system\n",
    "* *setting* - the configuration key (e.g., user.name)\n",
    "* *value* - the value to assign to the setting\n",
    "\n",
    "*USE CASES:*\n",
    "* to configure Git username globally:\n",
    "```sh\n",
    "    git config --global user.name [username]\n",
    "```\n",
    "* to configure Git email globally:\n",
    "```sh\n",
    "    git config --global user.email [email]\n",
    "```\n",
    "* to specify the default text editor for Git (e.g., VS Code, Vim, Nano)\n",
    "```sh\n",
    "    git config --global core.editor [texteditor]\n",
    "```\n",
    "* to configure default branch name (sets main as the default branch when running git init):\n",
    "```sh\n",
    "    git config --global init.defaultBranch main\n",
    "```\n",
    "* to list all Git configuration settings\n",
    "```sh\n",
    "    git config --list\n",
    "```\n",
    "* to remove a specific Git configuration (e.g., username):\n",
    "```sh\n",
    "    git config --unset user.name\n",
    "```"
   ]
  },
  {
   "cell_type": "markdown",
   "metadata": {},
   "source": [
    "**`git status`** this command is used to check the state of the repository. \n",
    "\n",
    "*SYNTAX:*\n",
    "```sh\n",
    "    git status [options]\n",
    "```\n",
    "* running *git status* without options gives a summary of changes\n",
    "* options allow you to modify the output format\n",
    "\n",
    "*USE CASES:*\n",
    "* to check the status of a specific file:\n",
    "```sh\n",
    "    git status [filename]\n",
    "```\n",
    "* to check the status of the current repository (shorter output/compact format)\n",
    "```sh\n",
    "    git status -s\n",
    "```\n",
    "* to show branch and tracking information\n",
    "```sh\n",
    "    git status -b\n",
    "```\n",
    "* to see only staged files:\n",
    "```sh\n",
    "    git diff --cached\n",
    "```\n",
    "\n",
    "*EXTRA:*\n",
    "\n",
    "*Default syntax shows:*\n",
    "* *On branch [branch name]*: Indicates the branch currently being worked on. This shows which branch changes will be committed to.\n",
    "\n",
    "* *Changes to be committed*: Lists the files that are staged for the next commit. These are files that have been modified and added to the staging area using the *git add* command. These changes are ready to be committed.\n",
    "\n",
    "* *Changes not staged for commit*: Lists files that have been modified but not staged. These are changes made to the files, but not yet added to the staging area using *git add*. Git will not commit these changes unless staged first.\n",
    "\n",
    "* *Untracked files*: Lists files that are not tracked by Git. These are new files in the working directory that have not been added to Git's tracking system. The *git add* command is needed to start tracking them.\n",
    "\n",
    "* *Won't modify commits or changes in the local repository*: The *git status* command does not modify anything in the repository. It simply shows the current state of the working directory and staging area, without altering any files or commits.\n",
    "\n",
    "*Shortened -s format shows:*\n",
    "* *M* - modified but not staged\n",
    "* *A* - newly added to staging\n",
    "* *D* - deleted file\n",
    "* *??* - untracked file\n",
    "* *UU* - unmerged file (conflict)\n",
    "\n"
   ]
  },
  {
   "cell_type": "markdown",
   "metadata": {},
   "source": [
    "**`git add`** this command *stages changes* in the working directory for inclusion in the next commit. This process involves adding new or modified files to the staging area (also known as the index), preparing them for a commit. \n",
    "\n",
    "*SYNTAX:*\n",
    "```sh\n",
    "    git add [file/directory]\n",
    "```\n",
    "* *file/directory* - specifies the file or directory to add\n",
    "* *no file/directory* -nothing will be staged\n",
    "\n",
    "*USE CASES:*\n",
    "* to stage individual files:\n",
    "```sh\n",
    "    git add [filename]\n",
    "```\n",
    "* to stage multiple files:\n",
    "```sh\n",
    "    git add [filename1] [filename2]\n",
    "```\n",
    "* to stage all modifications, including new, modified, and deleted files:\n",
    "```sh\n",
    "    git add -A\n",
    "```\n",
    "* to stage all the changes in the current directory and its subdirectories:\n",
    "```sh\n",
    "    git add .\n",
    "```\n",
    "* to add all the files except those starting with a dot:\n",
    "```sh\n",
    "    git add *\n",
    "```\n",
    "* to stage all modified files (but not untracked files):\n",
    "```sh\n",
    "    git add -u\n",
    "```"
   ]
  },
  {
   "cell_type": "markdown",
   "metadata": {},
   "source": [
    "**`git commit`** this command records a snapshot of the staged changes in a Git repository, creating a new commit that becomes part of the project's history.\n",
    "\n",
    "*SYNTAX:*\n",
    "```sh\n",
    "    git commit [options] [file/directory]\n",
    "```\n",
    "* *options* - additional flags to modify the commit behaviour\n",
    "* *file/directory* (optional) - specifies files to commit (rarely used, as files are usually staged with git add first)\n",
    "\n",
    "*USE CASES:*\n",
    "* to commit changes with a message:\n",
    "```sh\n",
    "    git commit -m 'message'\n",
    "```\n",
    "* to commit all modified and deleted tracked files without staging:\n",
    "```sh\n",
    "    git commit -a -m 'message'\n",
    "```\n",
    "* to amend the previous commit (this command allows modification of the last commit, useful for correcting messages or adding missed changes):\n",
    "```sh\n",
    "    git commit --amend -m 'updated message'\n",
    "```\n",
    "* to commit with a different author (where --author specifies a different author for the commit):\n",
    "```sh\n",
    "    git commit --author='John Doe <john@example.com>' -m 'bug fix'\n",
    "```\n"
   ]
  },
  {
   "cell_type": "markdown",
   "metadata": {},
   "source": [
    "**`git log`** this command displays the commit history of a Git repository, showing details about past commits, including:\n",
    "* commit hash (unique ID)\n",
    "* author name and email\n",
    "* date and time of the commit\n",
    "* commit message\n",
    "\n",
    "*SYNTAX:*\n",
    "```sh\n",
    "    git log [options]\n",
    "```\n",
    "By default, running *git log* without options displays the commit history in a detailed format.\n",
    "\n",
    "*USE CASES:*\n",
    "* compact, one-line format (displays each commit in a single line with shortened commit hash)\n",
    "```sh\n",
    "    git log --oneline\n",
    "```\n",
    "* graph view of commit history (useful for visualizing branches and merges)\n",
    "```sh\n",
    "    git log --oneline --graph --all\n",
    "```\n",
    "* limit the number of commits shown (example shows only the last 5 commits)\n",
    "```sh\n",
    "    git log -n 5\n",
    "```\n",
    "* filter by author (display commits made by a specific user)\n",
    "```sh\n",
    "    git log --author = 'John Doe'\n",
    "```\n",
    "* search for commits with a keyword (finds commits containing the phrase 'bug fix' in the commit message)\n",
    "```sh\n",
    "    git log --grep = 'bug fix'\n",
    "```"
   ]
  },
  {
   "cell_type": "markdown",
   "metadata": {},
   "source": [
    "**`git push`** this command is used to upload local repository content to a remote repository. It sends committed changes from your local branch to the corresponding branch on the remote repository.\n",
    "\n",
    "*SYNTAX:*\n",
    "```sh\n",
    "    git push [remote] [branch]\n",
    "```\n",
    "* *remote* - The name of the remote repository (e.g., origin)\n",
    "* *branch* - The branch you want to push (e.g., main or feature-branch)\n",
    "\n",
    "*USE CASES:*\n",
    "\n",
    "* push the current branch to the remote repository (e.g., origin main)\n",
    "```sh\n",
    "    git push origin main\n",
    "```\n",
    "* push all local branches to the romete repository\n",
    "```sh\n",
    "    git push --all origin\n",
    "```\n",
    "* push and set the upstream branch (trancks the remote branch)\n",
    "```sh\n",
    "    git push origin main\n",
    "```\n",
    "* force push (overwrites remote changes, use with caution)\n",
    "```sh\n",
    "    git push --force origin main\n",
    "```\n",
    "* push a new local branch to remote\n",
    "```sh\n",
    "    git push -u origin new-branch\n",
    "```\n",
    "* delete a remote branch\n",
    "```sh\n",
    "    git push origin --delete branch-name\n",
    "```\n",
    "* push tags to the remote repository\n",
    "```sh\n",
    "    git push origin --tags\n",
    "```"
   ]
  },
  {
   "cell_type": "markdown",
   "metadata": {},
   "source": [
    "**`git pull`**"
   ]
  },
  {
   "cell_type": "code",
   "execution_count": null,
   "metadata": {},
   "outputs": [],
   "source": []
  },
  {
   "cell_type": "code",
   "execution_count": null,
   "metadata": {},
   "outputs": [],
   "source": [
    "\n",
    "    git commit -m '[commit message]'    commit changes\n",
    "    git rm -r [file-name.txt]           remove a file (or folder)\n"
   ]
  },
  {
   "cell_type": "markdown",
   "metadata": {},
   "source": [
    "### git rm –cached -r ‘path’\n",
    "Remove the file from the Repository without deleting it from my local file system."
   ]
  },
  {
   "cell_type": "code",
   "execution_count": null,
   "metadata": {},
   "outputs": [],
   "source": [
    "git push"
   ]
  },
  {
   "cell_type": "code",
   "execution_count": null,
   "metadata": {},
   "outputs": [],
   "source": [
    "git push origin main"
   ]
  },
  {
   "cell_type": "markdown",
   "metadata": {},
   "source": []
  }
 ],
 "metadata": {
  "kernelspec": {
   "display_name": "base",
   "language": "python",
   "name": "python3"
  },
  "language_info": {
   "codemirror_mode": {
    "name": "ipython",
    "version": 3
   },
   "file_extension": ".py",
   "mimetype": "text/x-python",
   "name": "python",
   "nbconvert_exporter": "python",
   "pygments_lexer": "ipython3",
   "version": "3.11.4"
  }
 },
 "nbformat": 4,
 "nbformat_minor": 2
}
