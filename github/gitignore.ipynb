{
 "cells": [
  {
   "cell_type": "markdown",
   "metadata": {},
   "source": [
    "# GITIGNORE"
   ]
  },
  {
   "cell_type": "markdown",
   "metadata": {},
   "source": [
    "## CREATE GITIGNORE:\n",
    "\n",
    "* ***PowerShell***: `echo \"\" > .gitignore`"
   ]
  },
  {
   "cell_type": "markdown",
   "metadata": {
    "vscode": {
     "languageId": "plaintext"
    }
   },
   "source": [
    "## REMOVE FILES FROM GITIGNORE\n",
    "\n",
    "* remove the file that was already tracked by Git:\n",
    "    1. `git rm --cached <file_name>` : remove the file from Git's tracking history\n",
    "    2. `git commit -m \"Remove file from Git tracking\"`\n",
    "\n",
    "        `git push origin main`: commit changes and push to the repository"
   ]
  }
 ],
 "metadata": {
  "language_info": {
   "name": "python"
  }
 },
 "nbformat": 4,
 "nbformat_minor": 2
}
