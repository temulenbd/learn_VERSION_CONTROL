{
 "cells": [
  {
   "cell_type": "markdown",
   "metadata": {},
   "source": [
    "# ADDING A LOCAL FOLDER TO A GITHUB REPOSITORY"
   ]
  },
  {
   "cell_type": "markdown",
   "metadata": {},
   "source": [
    "Run this commands inside your local folder:\n",
    "\n",
    "1. `git init` -  initalize a git repository in the local folder\n",
    "2. `git remote add origin [repository's https]` - link to github repo\n",
    "3. `git add .` - stage all files\n",
    "4. `git commit -m 'initial commit` - commit changes \n",
    "5. `git branch -M main` - ensure branch is names 'main'\n",
    "6. `git push -u origin main` - push to github"
   ]
  },
  {
   "cell_type": "markdown",
   "metadata": {},
   "source": [
    "If the repo already exists on GitHub and has files, run this before pushing to prevent conflicts:\n",
    "\n",
    "1. `git pull origin main --rebase` - Fetches the latest changes from the *main* branch of the remote repository (*origin*) and reapplies local changes on top of updates, instead of creating a merge commit. This helps keep a cleaner commit history.\n",
    "2. `git push -u origin main` "
   ]
  },
  {
   "cell_type": "markdown",
   "metadata": {},
   "source": [
    "If you want overwrite remote: \n",
    "\n",
    "`git push --force origin main` - repository and erase any existing remote content that is not in your local repository. Use this only if you are sure the remote repository does not contain anything important that you need to keep."
   ]
  }
 ],
 "metadata": {
  "language_info": {
   "name": "python"
  }
 },
 "nbformat": 4,
 "nbformat_minor": 2
}
